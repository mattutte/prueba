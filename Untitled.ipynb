{
 "cells": [
  {
   "cell_type": "code",
   "execution_count": 12,
   "id": "5df01926",
   "metadata": {},
   "outputs": [],
   "source": [
    "import calendar\n",
    "from datetime import datetime\n",
    "\n",
    "def obtener_dias_mes(mes):\n",
    "    meses = [\"Enero\", \"Febrero\", \"Marzo\", \"Abril\", \"Mayo\", \"Junio\", \"Julio\", \"Agosto\", \"Septiembre\", \n",
    "             \"Octubre\", \"Noviembre\", \"Diciembre\"]\n",
    "    num_mes = meses.index(mes) + 1\n",
    "    num_ano = datetime.now().year\n",
    "    num_dias = calendar.monthrange(num_ano, num_mes)[1]\n",
    "    return num_dias\n"
   ]
  },
  {
   "cell_type": "code",
   "execution_count": 13,
   "id": "e5bbdb05",
   "metadata": {},
   "outputs": [
    {
     "data": {
      "text/plain": [
       "28"
      ]
     },
     "execution_count": 13,
     "metadata": {},
     "output_type": "execute_result"
    }
   ],
   "source": [
    "obtener_dias_mes(\"Febrero\")"
   ]
  },
  {
   "cell_type": "code",
   "execution_count": null,
   "id": "3a0f8ec5",
   "metadata": {},
   "outputs": [],
   "source": []
  }
 ],
 "metadata": {
  "kernelspec": {
   "display_name": "Python 3",
   "language": "python",
   "name": "python3"
  },
  "language_info": {
   "codemirror_mode": {
    "name": "ipython",
    "version": 3
   },
   "file_extension": ".py",
   "mimetype": "text/x-python",
   "name": "python",
   "nbconvert_exporter": "python",
   "pygments_lexer": "ipython3",
   "version": "3.8.8"
  }
 },
 "nbformat": 4,
 "nbformat_minor": 5
}
